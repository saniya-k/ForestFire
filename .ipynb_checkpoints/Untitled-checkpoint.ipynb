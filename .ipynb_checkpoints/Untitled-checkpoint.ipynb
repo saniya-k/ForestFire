{
 "cells": [
  {
   "cell_type": "markdown",
   "metadata": {},
   "source": [
    "# Read the Weather Data"
   ]
  },
  {
   "cell_type": "code",
   "execution_count": null,
   "metadata": {},
   "outputs": [],
   "source": [
    "\"\"\"\n",
    "Created on Fri Mar  6 15:52:30 2020\n",
    "\n",
    "@author: Saniya Khan\n",
    "\"\"\"\n",
    "\n",
    "import numpy as np\n",
    "import seaborn as sns\n",
    "import pandas as pd\n",
    "import matplotlib as plt\n",
    "\n",
    "weather=pd.read_csv(\"Weather_formatted_convert.csv\")\n",
    "weather=weather[['Day','T.Max(oC)','T.Min(oC)','Rain (mm)','Evap(mm)','Radn(MJ/m2)','VP (hPA)','RHmaxT(%)','RHminT(%)','Date2(mmddyyyy)','Brigade','Latitude','Longitude']]\n",
    "weather.rename(columns={\"Date2(mmddyyyy)\":\"Date\"},errors=\"raise\",inplace = True)\n",
    "weather['Date']=pd.to_datetime(weather['Date'])\n",
    "print(weather.isnull().sum())\n"
   ]
  },
  {
   "cell_type": "code",
   "execution_count": null,
   "metadata": {},
   "outputs": [],
   "source": []
  }
 ],
 "metadata": {
  "kernelspec": {
   "display_name": "Python 3",
   "language": "python",
   "name": "python3"
  },
  "language_info": {
   "codemirror_mode": {
    "name": "ipython",
    "version": 3
   },
   "file_extension": ".py",
   "mimetype": "text/x-python",
   "name": "python",
   "nbconvert_exporter": "python",
   "pygments_lexer": "ipython3",
   "version": "3.7.4"
  }
 },
 "nbformat": 4,
 "nbformat_minor": 2
}
